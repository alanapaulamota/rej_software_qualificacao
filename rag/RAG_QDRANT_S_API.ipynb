{
  "cells": [
    {
      "cell_type": "code",
      "execution_count": null,
      "metadata": {
        "id": "UxT-xzRQS6A1"
      },
      "outputs": [],
      "source": [
        "pip install langchain sentence-transformers tqdm qdrant-client pandas numpy"
      ]
    },
    {
      "cell_type": "code",
      "execution_count": null,
      "metadata": {
        "id": "38NkYYXpThX6"
      },
      "outputs": [],
      "source": [
        "pip install langchain_community"
      ]
    },
    {
      "cell_type": "code",
      "execution_count": null,
      "metadata": {
        "id": "iFB7-mgDT8wM"
      },
      "outputs": [],
      "source": [
        "pip install -U langchain-openai"
      ]
    },
    {
      "cell_type": "code",
      "execution_count": null,
      "metadata": {
        "id": "i_NPO7Z-hvi3"
      },
      "outputs": [],
      "source": [
        "!pip install --upgrade openai"
      ]
    },
    {
      "cell_type": "code",
      "execution_count": null,
      "metadata": {
        "colab": {
          "base_uri": "https://localhost:8080/"
        },
        "id": "W6rlXbKTSv7H",
        "outputId": "e7ca04c1-46ec-4e43-c767-c52874c97668"
      },
      "outputs": [
        {
          "name": "stderr",
          "output_type": "stream",
          "text": [
            "/usr/local/lib/python3.10/dist-packages/sentence_transformers/cross_encoder/CrossEncoder.py:13: TqdmExperimentalWarning: Using `tqdm.autonotebook.tqdm` in notebook mode. Use `tqdm.tqdm` instead to force console mode (e.g. in jupyter console)\n",
            "  from tqdm.autonotebook import tqdm, trange\n"
          ]
        }
      ],
      "source": [
        "# Importando bibliotecas necessárias\n",
        "import os\n",
        "from langchain_openai import OpenAI\n",
        "from langchain.chains import StuffDocumentsChain\n",
        "from langchain.prompts import PromptTemplate\n",
        "from langchain.chains.llm import LLMChain\n",
        "from langchain.text_splitter import RecursiveCharacterTextSplitter\n",
        "from langchain.docstore.document import Document\n",
        "from sentence_transformers import SentenceTransformer\n",
        "from tqdm import tqdm\n",
        "import qdrant_client\n",
        "from qdrant_client.models import PointStruct, VectorParams, Distance\n",
        "import pandas as pd\n",
        "import numpy as np"
      ]
    },
    {
      "cell_type": "markdown",
      "metadata": {
        "id": "sYKtLnsT8tT2"
      },
      "source": [
        "# ==========================================\n",
        "# 1. Carregamento de Dados\n",
        "# =========================================="
      ]
    },
    {
      "cell_type": "code",
      "execution_count": null,
      "metadata": {
        "id": "Y09-1OlMd566"
      },
      "outputs": [],
      "source": [
        "# Upload de arquivos no pc local\n",
        "from google.colab import files\n",
        "uploaded = files.upload()"
      ]
    },
    {
      "cell_type": "code",
      "execution_count": null,
      "metadata": {
        "colab": {
          "base_uri": "https://localhost:8080/",
          "height": 206
        },
        "id": "4rFIOZkgU5yz",
        "outputId": "812d5ec8-67ce-41c2-d180-fde7ad2073bc"
      },
      "outputs": [
        {
          "data": {
            "application/vnd.google.colaboratory.intrinsic+json": {
              "summary": "{\n  \"name\": \"df\",\n  \"rows\": 28071,\n  \"fields\": [\n    {\n      \"column\": \"PostId\",\n      \"properties\": {\n        \"dtype\": \"number\",\n        \"std\": 17849531,\n        \"min\": 25,\n        \"max\": 78166176,\n        \"num_unique_values\": 28036,\n        \"samples\": [\n          15031983,\n          14633987,\n          15453629\n        ],\n        \"semantic_type\": \"\",\n        \"description\": \"\"\n      }\n    },\n    {\n      \"column\": \"Body\",\n      \"properties\": {\n        \"dtype\": \"string\",\n        \"num_unique_values\": 28060,\n        \"samples\": [\n          \"* UPDATE * I've reinstalled with Snow Leopard, clean install. Completely wiped my existing Leopard install. Same problem persists.\\n\\nI've tried numbers of versions of symbolicatecrash to resolve symbols in my crash reports. From the version provided by Apple, to Alan's Quatermain's version posted on GitHub and finally from http://openradar.appspot.com/6438643.\\n\\nFor whatever reason, the best results I can get is for symbols on my own libraries to get resolved. Normally, this is enough data to point me in the right direction -- other times it is not. With 2.x I had no problems getting the symbols for my code + Apple provided libraries from within the stack traces in each thread.\\n\\nMost likely an issue with my environment here, I'm not at all doubting the work that Apple or Alan have done. Yes I'm certain the dSYM I have stashed away is the same exact one that's generating the crash report.\\n\\nAlthough 'Foo' is me, and getting symbols from it is wonderful, I need to see symbols from the other functions in the stack to truly understand my reports.\\n\\nNote: For devices that crash running the app on iPhone OS 2.2.1, I have no problem getting all symbols. This is an iPhone OS 3.0 issue it appears.\\n\\nAlso, while running symbolicatecrash in verbose mode here's a few of the things that struck me as wrong:\\n\\n- NO MATCH\\nNOT searching in Spotlight for dsym with UUID of /System/Library/Frameworks/CoreFoundation.framework/CoreFoundation\\n## Warning: Can't find any unstripped binary that matches version of /System/Library/Frameworks/CoreFoundation.framework/CoreFoundation\\n\\n..........fetching symbol file for libobjc.A.dylib--[undef] \\nSearching [/Developer/Platforms/iPhoneOS.platform/DeviceSupport/2.0 (5A345)/Symbols/usr/lib/libobjc.A.dylib /Developer/Platforms/iPhoneOS.platform/DeviceSupport/2.0 (5A347)/Symbols/usr/lib/libobjc.A.dylib /Developer/Platforms/iPhoneOS.platform/DeviceSupport/2.0.1 (5B108)/Symbols/usr/lib/libobjc.A.dylib /Developer/Platforms/iPhoneOS.platform/DeviceSupport/2.0.2 (5C1)/Symbols/usr/lib/libobjc.A.dylib /Developer/Platforms/iPhoneOS.platform/DeviceSupport/2.1.1/Symbols/usr/lib/libobjc.A.dylib /Developer/Platforms/iPhoneOS.platform/DeviceSupport/2.1/Symbols/usr/lib/libobjc.A.dylib /Developer/Platforms/iPhoneOS.platform/DeviceSupport/2.2.1/Symbols/usr/lib/libobjc.A.dylib /Developer/Platforms/iPhoneOS.platform/DeviceSupport/2.2/Symbols/usr/lib/libobjc.A.dylib /Developer/Platforms/iPhoneOS.platform/DeviceSupport/3.0 (7A341)/Symbols/usr/lib/libobjc.A.dylib]...--[/Developer/Platforms/iPhoneOS.platform/DeviceSupport/2.0 (5A345)/Symbols/usr/lib/libobjc.A.dylib] -- NO MATCH\\n--[/Developer/Platforms/iPhoneOS.platform/DeviceSupport/2.0 (5A347)/Symbols/usr/lib/libobjc.A.dylib] -- NO MATCH\\n--[/Developer/Platforms/iPhoneOS.platform/DeviceSupport/2.0.1 (5B108)/Symbols/usr/lib/libobjc.A.dylib] -- NO MATCH\\n--[/Developer/Platforms/iPhoneOS.platform/DeviceSupport/2.0.2 (5C1)/Symbols/usr/lib/libobjc.A.dylib] -- NO MATCH\\n--[/Developer/Platforms/iPhoneOS.platform/DeviceSupport/2.1.1/Symbols/usr/lib/libobjc.A.dylib] -- NO MATCH\\n--[/Developer/Platforms/iPhoneOS.platform/DeviceSupport/2.1/Symbols/usr/lib/libobjc.A.dylib] -- NO MATCH\\n--[/Developer/Platforms/iPhoneOS.platform/DeviceSupport/2.2.1/Symbols/usr/lib/libobjc.A.dylib] -- NO MATCH\\n--[/Developer/Platforms/iPhoneOS.platform/DeviceSupport/2.2/Symbols/usr/lib/libobjc.A.dylib] -- NO MATCH\\n--[/Developer/Platforms/iPhoneOS.platform/DeviceSupport/3.0 (7A341)/Symbols/usr/lib/libobjc.A.dylib] -- NO MATCH\\nNOT searching in Spotlight for dsym with UUID of /usr/lib/libobjc.A.dylib\\n## Warning: Can't find any unstripped binary that matches version of /usr/lib/libobjc.A.dylib\\nHere's an example of the crash report after running it through symbolicatecrash:\\n\\nThread 0 Crashed:\\n0   libSystem.B.dylib                   0x31dc476c 0x31d46000 + 517996\\n1   libSystem.B.dylib                   0x31dc4755 0x31d46000 + 517973\\n2   Foo                            0x00053075 uncaught_exception_handler + 21\\n3   CoreFoundation                      0x3028f65f 0x301fd000 + 599647\\n4   libobjc.A.dylib                     0x30013693 0x3000c000 + 30355\\n5   libstdc++.6.dylib                   0x374ccc2d 0x3748a000 + 273453\\n6   libstdc++.6.dylib                   0x374ccc81 0x3748a000 + 273537\\n7   libstdc++.6.dylib                   0x374ccd4d 0x3748a000 + 273741\\n8   libobjc.A.dylib                     0x300135ff 0x3000c000 + 30207\\n9   CoreFoundation                      0x30222f2d 0x301fd000 + 155437\\n10  CoreFoundation                      0x30222ecb 0x301fd000 + 155339\\n11  Foundation                          0x30521e33 0x30501000 + 134707\\n12  Foundation                          0x30570d47 0x30501000 + 458055\\n13  Foo                            0x0000a1db -[Bar barfoo] (Bar.m:1617)\\n14  Foo                            0x00032f73 -[MyViewController foobar] (MyViewController.m:727)\\n15  Foo                            0x000329b9 -[MyViewController foobar] (MyViewController.m:666)\\n16  Foo                            0x00031fab -[MyViewController tabBar:tabSelected:] (MyViewController.m:440)\\n17  Foo                            0x00068d41 -[TTTabBar setSelectedTabIndex:] (TTTabBar.m:160)\\n18  Foo                            0x00068ca3 -[TTTabBar setSelectedTabView:] (TTTabBar.m:142)\\n19  Foo                            0x000689cf -[TTTabBar tabTouchedUp:] (TTTabBar.m:83)\\n20  CoreFoundation                      0x302552f9 0x301fd000 + 361209\\n21  UIKit                               0x3094d101 0x308ed000 + 393473\\n22  UIKit                               0x3094d0a1 0x308ed000 + 393377\\n23  UIKit                               0x3094d073 0x308ed000 + 393331\\n24  UIKit                               0x3094cdcd 0x308ed000 + 392653\\n25  UIKit                               0x309779c1 0x308ed000 + 567745\\n26  UIKit                               0x30977011 0x308ed000 + 565265\\n27  UIKit                               0x309767d9 0x308ed000 + 563161\\n28  UIKit                               0x30923613 0x308ed000 + 222739\\n29  UIKit                               0x30923163 0x308ed000 + 221539\\n30  GraphicsServices                    0x32045a4d 0x32041000 + 19021\\n31  CoreFoundation                      0x30253041 0x301fd000 + 352321\\n32  CoreFoundation                      0x30252771 0x301fd000 + 350065\\n33  GraphicsServices                    0x32044b0f 0x32041000 + 15119\\n34  GraphicsServices                    0x32044bbb 0x32041000 + 15291\\n35  UIKit                               0x308f0363 0x308ed000 + 13155\\n36  UIKit                               0x308ef121 0x308ed000 + 8481\\n37  Foo                            0x00002097 main (main.m:13)  \\n\",\n          \"Is there any disadvantages or pitfalls with migration to c++11, if my current project on c++98? I mean that at some point I will start to use some advantages like auto etc. from c++11 and will not do anything with the previous written code?\\n\\nSeems only one disadvantage that its will be impossible to compile the projects on the servers with the old gcc? For example, I'm on FreeBSD 7, and there is no official new gcc for it.\\n\\nUPDATE: @nurettin wrote on the comments that need to compile somewhere on c++11 and test it, but the application is very specifically and hard to test. it's background daemon without any output to console (something like web server with many thread) so it's very hard to debug....\",\n          \"Code:\\n#include \\n\\nstruct Data;\\nstd::unique_ptr make_me();\\n\\nint main()\\n{\\n    std::unique_ptr m = make_me();\\n    return 0;\\n}\\n\\nWhich of course fails:\\nIn file included from :1:\\nIn file included from /opt/compiler-explorer/gcc-7.1.0/lib/gcc/x86_64-linux-gnu/7.1.0/../../../../include/c++/7.1.0/memory:80:\\n/opt/compiler-explorer/gcc-7.1.0/include/c++/7.1.0/bits/unique_ptr.h:76:16: error: invalid application of 'sizeof' to an incomplete type 'Data'\\n        static_assert(sizeof(_Tp)>0,\\n                      ^~~~~~~~~~~\\n/opt/compiler-explorer/gcc-7.1.0/include/c++/7.1.0/bits/unique_ptr.h:268:4: note: in instantiation of member function 'std::default_delete::operator()' requested here\\n          get_deleter()(__ptr);\\n          ^\\n8 : :8:31: note: in instantiation of member function 'std::unique_ptr >::~unique_ptr' requested here\\n    std::unique_ptr m = make_me();\\n                              ^\\n3 : :3:8: note: forward declaration of 'Data'\\nstruct Data;\\n       ^\\n1 error generated.\\nCompiler returned: 1\\n\\nBut adding below line at the end of above code compiles fine:\\nstruct Data {};\\n\\nMy question is why this code compiles and works when Data is declared after point of instantiation of std::unique_ptr? Seemingly, both cases should fail with the same/similar error..\\nWhole example on godbolt: <a href=\\\\\\\"https://godbolt.org/g/FQqxwN\\\\\"\n        ],\n        \"semantic_type\": \"\",\n        \"description\": \"\"\n      }\n    },\n    {\n      \"column\": \"Title\",\n      \"properties\": {\n        \"dtype\": \"string\",\n        \"num_unique_values\": 20317,\n        \"samples\": [\n          \"C++ equivalent of Python dictionaries\",\n          \"href=\\\\\\\"https://en.wikipedia.org/wiki/Red%E2%80%93black_tree\\\\\\\"\",\n          \"C++ RAII not working?\"\n        ],\n        \"semantic_type\": \"\",\n        \"description\": \"\"\n      }\n    }\n  ]\n}",
              "type": "dataframe",
              "variable_name": "df"
            },
            "text/html": [
              "\n",
              "  <div id=\"df-246c615e-70eb-4958-aeaf-a6f95e401587\" class=\"colab-df-container\">\n",
              "    <div>\n",
              "<style scoped>\n",
              "    .dataframe tbody tr th:only-of-type {\n",
              "        vertical-align: middle;\n",
              "    }\n",
              "\n",
              "    .dataframe tbody tr th {\n",
              "        vertical-align: top;\n",
              "    }\n",
              "\n",
              "    .dataframe thead th {\n",
              "        text-align: right;\n",
              "    }\n",
              "</style>\n",
              "<table border=\"1\" class=\"dataframe\">\n",
              "  <thead>\n",
              "    <tr style=\"text-align: right;\">\n",
              "      <th></th>\n",
              "      <th>PostId</th>\n",
              "      <th>Body</th>\n",
              "      <th>Title</th>\n",
              "    </tr>\n",
              "  </thead>\n",
              "  <tbody>\n",
              "    <tr>\n",
              "      <th>0</th>\n",
              "      <td>25</td>\n",
              "      <td>I'm having issues getting the C sockets API to...</td>\n",
              "      <td>How to use the C socket API in C++ on z/OS</td>\n",
              "    </tr>\n",
              "    <tr>\n",
              "      <th>1</th>\n",
              "      <td>264</td>\n",
              "      <td>\\nWhat's the optimal level of concurrency that...</td>\n",
              "      <td>BerkeleyDB Concurrency</td>\n",
              "    </tr>\n",
              "    <tr>\n",
              "      <th>2</th>\n",
              "      <td>330</td>\n",
              "      <td>I am working on a collection of classes used f...</td>\n",
              "      <td>Should I use nested classes in this case?</td>\n",
              "    </tr>\n",
              "    <tr>\n",
              "      <th>3</th>\n",
              "      <td>419</td>\n",
              "      <td>Part of my everyday work is maintaining and ex...</td>\n",
              "      <td>Unload a COM control when working in VB6 IDE</td>\n",
              "    </tr>\n",
              "    <tr>\n",
              "      <th>4</th>\n",
              "      <td>601</td>\n",
              "      <td>I'm looking for a performant, reasonably robus...</td>\n",
              "      <td>Robust Random Number Generation</td>\n",
              "    </tr>\n",
              "  </tbody>\n",
              "</table>\n",
              "</div>\n",
              "    <div class=\"colab-df-buttons\">\n",
              "\n",
              "  <div class=\"colab-df-container\">\n",
              "    <button class=\"colab-df-convert\" onclick=\"convertToInteractive('df-246c615e-70eb-4958-aeaf-a6f95e401587')\"\n",
              "            title=\"Convert this dataframe to an interactive table.\"\n",
              "            style=\"display:none;\">\n",
              "\n",
              "  <svg xmlns=\"http://www.w3.org/2000/svg\" height=\"24px\" viewBox=\"0 -960 960 960\">\n",
              "    <path d=\"M120-120v-720h720v720H120Zm60-500h600v-160H180v160Zm220 220h160v-160H400v160Zm0 220h160v-160H400v160ZM180-400h160v-160H180v160Zm440 0h160v-160H620v160ZM180-180h160v-160H180v160Zm440 0h160v-160H620v160Z\"/>\n",
              "  </svg>\n",
              "    </button>\n",
              "\n",
              "  <style>\n",
              "    .colab-df-container {\n",
              "      display:flex;\n",
              "      gap: 12px;\n",
              "    }\n",
              "\n",
              "    .colab-df-convert {\n",
              "      background-color: #E8F0FE;\n",
              "      border: none;\n",
              "      border-radius: 50%;\n",
              "      cursor: pointer;\n",
              "      display: none;\n",
              "      fill: #1967D2;\n",
              "      height: 32px;\n",
              "      padding: 0 0 0 0;\n",
              "      width: 32px;\n",
              "    }\n",
              "\n",
              "    .colab-df-convert:hover {\n",
              "      background-color: #E2EBFA;\n",
              "      box-shadow: 0px 1px 2px rgba(60, 64, 67, 0.3), 0px 1px 3px 1px rgba(60, 64, 67, 0.15);\n",
              "      fill: #174EA6;\n",
              "    }\n",
              "\n",
              "    .colab-df-buttons div {\n",
              "      margin-bottom: 4px;\n",
              "    }\n",
              "\n",
              "    [theme=dark] .colab-df-convert {\n",
              "      background-color: #3B4455;\n",
              "      fill: #D2E3FC;\n",
              "    }\n",
              "\n",
              "    [theme=dark] .colab-df-convert:hover {\n",
              "      background-color: #434B5C;\n",
              "      box-shadow: 0px 1px 3px 1px rgba(0, 0, 0, 0.15);\n",
              "      filter: drop-shadow(0px 1px 2px rgba(0, 0, 0, 0.3));\n",
              "      fill: #FFFFFF;\n",
              "    }\n",
              "  </style>\n",
              "\n",
              "    <script>\n",
              "      const buttonEl =\n",
              "        document.querySelector('#df-246c615e-70eb-4958-aeaf-a6f95e401587 button.colab-df-convert');\n",
              "      buttonEl.style.display =\n",
              "        google.colab.kernel.accessAllowed ? 'block' : 'none';\n",
              "\n",
              "      async function convertToInteractive(key) {\n",
              "        const element = document.querySelector('#df-246c615e-70eb-4958-aeaf-a6f95e401587');\n",
              "        const dataTable =\n",
              "          await google.colab.kernel.invokeFunction('convertToInteractive',\n",
              "                                                    [key], {});\n",
              "        if (!dataTable) return;\n",
              "\n",
              "        const docLinkHtml = 'Like what you see? Visit the ' +\n",
              "          '<a target=\"_blank\" href=https://colab.research.google.com/notebooks/data_table.ipynb>data table notebook</a>'\n",
              "          + ' to learn more about interactive tables.';\n",
              "        element.innerHTML = '';\n",
              "        dataTable['output_type'] = 'display_data';\n",
              "        await google.colab.output.renderOutput(dataTable, element);\n",
              "        const docLink = document.createElement('div');\n",
              "        docLink.innerHTML = docLinkHtml;\n",
              "        element.appendChild(docLink);\n",
              "      }\n",
              "    </script>\n",
              "  </div>\n",
              "\n",
              "\n",
              "<div id=\"df-cc63a6db-43e0-4f38-abd9-046394b5be75\">\n",
              "  <button class=\"colab-df-quickchart\" onclick=\"quickchart('df-cc63a6db-43e0-4f38-abd9-046394b5be75')\"\n",
              "            title=\"Suggest charts\"\n",
              "            style=\"display:none;\">\n",
              "\n",
              "<svg xmlns=\"http://www.w3.org/2000/svg\" height=\"24px\"viewBox=\"0 0 24 24\"\n",
              "     width=\"24px\">\n",
              "    <g>\n",
              "        <path d=\"M19 3H5c-1.1 0-2 .9-2 2v14c0 1.1.9 2 2 2h14c1.1 0 2-.9 2-2V5c0-1.1-.9-2-2-2zM9 17H7v-7h2v7zm4 0h-2V7h2v10zm4 0h-2v-4h2v4z\"/>\n",
              "    </g>\n",
              "</svg>\n",
              "  </button>\n",
              "\n",
              "<style>\n",
              "  .colab-df-quickchart {\n",
              "      --bg-color: #E8F0FE;\n",
              "      --fill-color: #1967D2;\n",
              "      --hover-bg-color: #E2EBFA;\n",
              "      --hover-fill-color: #174EA6;\n",
              "      --disabled-fill-color: #AAA;\n",
              "      --disabled-bg-color: #DDD;\n",
              "  }\n",
              "\n",
              "  [theme=dark] .colab-df-quickchart {\n",
              "      --bg-color: #3B4455;\n",
              "      --fill-color: #D2E3FC;\n",
              "      --hover-bg-color: #434B5C;\n",
              "      --hover-fill-color: #FFFFFF;\n",
              "      --disabled-bg-color: #3B4455;\n",
              "      --disabled-fill-color: #666;\n",
              "  }\n",
              "\n",
              "  .colab-df-quickchart {\n",
              "    background-color: var(--bg-color);\n",
              "    border: none;\n",
              "    border-radius: 50%;\n",
              "    cursor: pointer;\n",
              "    display: none;\n",
              "    fill: var(--fill-color);\n",
              "    height: 32px;\n",
              "    padding: 0;\n",
              "    width: 32px;\n",
              "  }\n",
              "\n",
              "  .colab-df-quickchart:hover {\n",
              "    background-color: var(--hover-bg-color);\n",
              "    box-shadow: 0 1px 2px rgba(60, 64, 67, 0.3), 0 1px 3px 1px rgba(60, 64, 67, 0.15);\n",
              "    fill: var(--button-hover-fill-color);\n",
              "  }\n",
              "\n",
              "  .colab-df-quickchart-complete:disabled,\n",
              "  .colab-df-quickchart-complete:disabled:hover {\n",
              "    background-color: var(--disabled-bg-color);\n",
              "    fill: var(--disabled-fill-color);\n",
              "    box-shadow: none;\n",
              "  }\n",
              "\n",
              "  .colab-df-spinner {\n",
              "    border: 2px solid var(--fill-color);\n",
              "    border-color: transparent;\n",
              "    border-bottom-color: var(--fill-color);\n",
              "    animation:\n",
              "      spin 1s steps(1) infinite;\n",
              "  }\n",
              "\n",
              "  @keyframes spin {\n",
              "    0% {\n",
              "      border-color: transparent;\n",
              "      border-bottom-color: var(--fill-color);\n",
              "      border-left-color: var(--fill-color);\n",
              "    }\n",
              "    20% {\n",
              "      border-color: transparent;\n",
              "      border-left-color: var(--fill-color);\n",
              "      border-top-color: var(--fill-color);\n",
              "    }\n",
              "    30% {\n",
              "      border-color: transparent;\n",
              "      border-left-color: var(--fill-color);\n",
              "      border-top-color: var(--fill-color);\n",
              "      border-right-color: var(--fill-color);\n",
              "    }\n",
              "    40% {\n",
              "      border-color: transparent;\n",
              "      border-right-color: var(--fill-color);\n",
              "      border-top-color: var(--fill-color);\n",
              "    }\n",
              "    60% {\n",
              "      border-color: transparent;\n",
              "      border-right-color: var(--fill-color);\n",
              "    }\n",
              "    80% {\n",
              "      border-color: transparent;\n",
              "      border-right-color: var(--fill-color);\n",
              "      border-bottom-color: var(--fill-color);\n",
              "    }\n",
              "    90% {\n",
              "      border-color: transparent;\n",
              "      border-bottom-color: var(--fill-color);\n",
              "    }\n",
              "  }\n",
              "</style>\n",
              "\n",
              "  <script>\n",
              "    async function quickchart(key) {\n",
              "      const quickchartButtonEl =\n",
              "        document.querySelector('#' + key + ' button');\n",
              "      quickchartButtonEl.disabled = true;  // To prevent multiple clicks.\n",
              "      quickchartButtonEl.classList.add('colab-df-spinner');\n",
              "      try {\n",
              "        const charts = await google.colab.kernel.invokeFunction(\n",
              "            'suggestCharts', [key], {});\n",
              "      } catch (error) {\n",
              "        console.error('Error during call to suggestCharts:', error);\n",
              "      }\n",
              "      quickchartButtonEl.classList.remove('colab-df-spinner');\n",
              "      quickchartButtonEl.classList.add('colab-df-quickchart-complete');\n",
              "    }\n",
              "    (() => {\n",
              "      let quickchartButtonEl =\n",
              "        document.querySelector('#df-cc63a6db-43e0-4f38-abd9-046394b5be75 button');\n",
              "      quickchartButtonEl.style.display =\n",
              "        google.colab.kernel.accessAllowed ? 'block' : 'none';\n",
              "    })();\n",
              "  </script>\n",
              "</div>\n",
              "\n",
              "    </div>\n",
              "  </div>\n"
            ],
            "text/plain": [
              "   PostId                                               Body  \\\n",
              "0      25  I'm having issues getting the C sockets API to...   \n",
              "1     264  \\nWhat's the optimal level of concurrency that...   \n",
              "2     330  I am working on a collection of classes used f...   \n",
              "3     419  Part of my everyday work is maintaining and ex...   \n",
              "4     601  I'm looking for a performant, reasonably robus...   \n",
              "\n",
              "                                          Title  \n",
              "0    How to use the C socket API in C++ on z/OS  \n",
              "1                        BerkeleyDB Concurrency  \n",
              "2     Should I use nested classes in this case?  \n",
              "3  Unload a COM control when working in VB6 IDE  \n",
              "4               Robust Random Number Generation  "
            ]
          },
          "execution_count": 6,
          "metadata": {},
          "output_type": "execute_result"
        }
      ],
      "source": [
        "# Carrega os dados da planilha\n",
        "file_path = '/content/cpp_t1_cleaned_cpp_posts_t2.csv'\n",
        "df = pd.read_csv(file_path)\n",
        "\n",
        "# Imprime as primeiras 5 linhas\n",
        "df.head()"
      ]
    },
    {
      "cell_type": "code",
      "execution_count": null,
      "metadata": {
        "colab": {
          "base_uri": "https://localhost:8080/"
        },
        "id": "8C9FJ3JQ_gqr",
        "outputId": "e6af2ebb-03d5-4a8f-ea75-8aa50edf0183"
      },
      "outputs": [
        {
          "name": "stdout",
          "output_type": "stream",
          "text": [
            "Número de linhas carregadas: 28071\n"
          ]
        }
      ],
      "source": [
        "# Verificar quantas linhas foram carregadas\n",
        "num_linhas = len(df)\n",
        "print(f\"Número de linhas carregadas: {num_linhas}\")"
      ]
    },
    {
      "cell_type": "markdown",
      "metadata": {
        "id": "IJg_k0vifSy-"
      },
      "source": [
        "\n",
        "\n",
        "---\n",
        "\n",
        "Remover depois..."
      ]
    },
    {
      "cell_type": "code",
      "execution_count": null,
      "metadata": {
        "id": "mnjfKgbTeEdy"
      },
      "outputs": [],
      "source": [
        "# Substituir valores NaN por strings vazias em todas as colunas\n",
        "df = df.fillna('')\n",
        "\n",
        "# Garantir que todos os valores no DataFrame sejam strings\n",
        "df = df.astype(str)\n",
        "\n",
        "# Preparar os textos que serão usados nos embeddings\n",
        "#texts = df['Body'].tolist()\n",
        "# Preparar os textos usando o título e o corpo da pergunta\n",
        "texts = (df['Title'] + \" \" + df['Body']).tolist()"
      ]
    },
    {
      "cell_type": "markdown",
      "metadata": {
        "id": "ecZmKDh-fWkR"
      },
      "source": [
        "\n",
        "\n",
        "---\n",
        "\n"
      ]
    },
    {
      "cell_type": "markdown",
      "metadata": {
        "id": "YnGutngM-A1i"
      },
      "source": [
        "# ==========================================\n",
        "# 2. Inicialização de Ferramentas e Modelos\n",
        "# =========================================="
      ]
    },
    {
      "cell_type": "code",
      "execution_count": null,
      "metadata": {
        "id": "PXjUhmN9Tro7"
      },
      "outputs": [],
      "source": [
        "# Inicializa o LLM com a chave da API OpenAI\n",
        "llm = OpenAI(temperature=0, openai_api_key=\"\")"
      ]
    },
    {
      "cell_type": "code",
      "execution_count": null,
      "metadata": {
        "colab": {
          "base_uri": "https://localhost:8080/"
        },
        "id": "PKpJUbWcUUlt",
        "outputId": "b12bce8c-ca4a-4615-84d2-e98eac86c846"
      },
      "outputs": [
        {
          "name": "stderr",
          "output_type": "stream",
          "text": [
            "<ipython-input-12-132fadf395bb>:5: LangChainDeprecationWarning: The class `LLMChain` was deprecated in LangChain 0.1.17 and will be removed in 1.0. Use RunnableSequence, e.g., `prompt | llm` instead.\n",
            "  llm_chain = LLMChain(llm=llm, prompt=qa_prompt)\n",
            "<ipython-input-12-132fadf395bb>:8: LangChainDeprecationWarning: This class is deprecated. Use the `create_stuff_documents_chain` constructor instead. See migration guide here: https://python.langchain.com/v0.2/docs/versions/migrating_chains/stuff_docs_chain/\n",
            "  combine_docs_chain = StuffDocumentsChain(\n"
          ]
        }
      ],
      "source": [
        "# O template do prompt\n",
        "qa_prompt = PromptTemplate.from_template(\"Responda a pergunta usando as informações fornecidas: {context}\")\n",
        "\n",
        "# Construir o llm_chain\n",
        "llm_chain = LLMChain(llm=llm, prompt=qa_prompt)\n",
        "\n",
        "# Criar o StuffDocumentsChain para combinar documentos\n",
        "combine_docs_chain = StuffDocumentsChain(\n",
        "    llm_chain=llm_chain,\n",
        "    document_variable_name=\"context\"\n",
        ")"
      ]
    },
    {
      "cell_type": "code",
      "execution_count": null,
      "metadata": {
        "id": "N4EFJ2ObUr31"
      },
      "outputs": [],
      "source": [
        "# Carregar o modelo de embedding do Sentence Transformers\n",
        "#model = SentenceTransformer('multi-qa-mpnet-base-dot-v1')\n",
        "model = SentenceTransformer('sentence-transformers/all-MiniLM-L6-v2')\n"
      ]
    },
    {
      "cell_type": "markdown",
      "metadata": {
        "id": "bXjBezxP9PrA"
      },
      "source": [
        "# ==========================================\n",
        "# 3. Funções de Embeddings e Pré-processamento\n",
        "# =========================================="
      ]
    },
    {
      "cell_type": "code",
      "execution_count": null,
      "metadata": {
        "id": "Jghw8nJfUuvg"
      },
      "outputs": [],
      "source": [
        "# Função para gerar embeddings em lotes\n",
        "def batch_encode(texts, batch_size=64):\n",
        "    embeddings = []\n",
        "    for i in tqdm(range(0, len(texts), batch_size)):\n",
        "        batch = texts[i:i+batch_size]\n",
        "        batch_embeddings = model.encode(batch, show_progress_bar=False)\n",
        "        embeddings.append(batch_embeddings)\n",
        "    return np.vstack(embeddings)"
      ]
    },
    {
      "cell_type": "markdown",
      "metadata": {
        "id": "y1rm7jOO-G5B"
      },
      "source": [
        "# ==========================================\n",
        "# 4. Funções de Busca e Geração de Resposta\n",
        "# =========================================="
      ]
    },
    {
      "cell_type": "code",
      "execution_count": null,
      "metadata": {
        "id": "5LGDZs-sUyNP"
      },
      "outputs": [],
      "source": [
        "# Função para realizar a busca e recuperar os documentos mais relevantes\n",
        "def retrieve(query, k=15):\n",
        "    # Gerar o embedding da consulta\n",
        "    query_embedding = model.encode([query])[0]\n",
        "\n",
        "    # Buscar os k documentos mais relevantes no Qdrant\n",
        "    search_result = client.search(\n",
        "        collection_name=collection_name,\n",
        "        query_vector=query_embedding.tolist(),\n",
        "        limit=k,\n",
        "        search_params={\"hnsw_ef\": 100}  # Parâmetro HNSW\n",
        "    )\n",
        "\n",
        "    # Extrair os textos dos resultados da busca\n",
        "    docs = [Document(page_content=hit.payload[\"text\"]) for hit in search_result]\n",
        "\n",
        "    return docs"
      ]
    },
    {
      "cell_type": "code",
      "execution_count": null,
      "metadata": {
        "id": "BmVsGE_o-dzK"
      },
      "outputs": [],
      "source": [
        "# Função para dividir o contexto em partes menores (para o modelo LLM)\n",
        "def split_context(context, max_len=500):\n",
        "    sentences = context.split('. ')\n",
        "    chunks = []\n",
        "    chunk = ''\n",
        "\n",
        "    for sentence in sentences:\n",
        "        if len(chunk) + len(sentence) + 1 <= max_len:\n",
        "            chunk += sentence + '. '\n",
        "        else:\n",
        "            chunks.append(chunk.strip())\n",
        "            chunk = sentence + '. '\n",
        "\n",
        "    if chunk:\n",
        "        chunks.append(chunk.strip())\n",
        "\n",
        "    # Imprimir os chunks para verificação\n",
        "    for i, c in enumerate(chunks):\n",
        "        print(f\"Chunk {i}: {c[:100]}...\")  # Exibir apenas uma parte do chunk\n",
        "\n",
        "    return chunks"
      ]
    },
    {
      "cell_type": "code",
      "execution_count": null,
      "metadata": {
        "id": "RgDE_8dX-lw_"
      },
      "outputs": [],
      "source": [
        "# Função principal para gerar a resposta\n",
        "def generate_answer(query, k=15):\n",
        "    try:\n",
        "        # Recuperar os documentos mais relevantes usando o Qdrant\n",
        "        docs = retrieve(query, k=k)\n",
        "\n",
        "        # Verificar se documentos foram encontrados\n",
        "        if not docs:\n",
        "            return \"Nenhum documento relevante encontrado.\"\n",
        "\n",
        "        # Concatenar os textos dos documentos\n",
        "        context = \" \".join([doc.page_content for doc in docs])\n",
        "\n",
        "        # Dividir o contexto se for muito grande\n",
        "        context_chunks = split_context(context)\n",
        "\n",
        "        # Iterar sobre os chunks e usar o modelo para gerar respostas\n",
        "        answers = []\n",
        "        for chunk in context_chunks:\n",
        "            response = llm_chain.run(context=chunk)\n",
        "            answers.append(response.strip())\n",
        "\n",
        "        # Combinar as respostas e remover duplicatas\n",
        "        final_answer = ' '.join(answers).strip()\n",
        "\n",
        "        return final_answer if final_answer else \"Nenhuma resposta clara foi encontrada.\"\n",
        "\n",
        "    except Exception as e:\n",
        "        return f\"Ocorreu um erro: {str(e)}\""
      ]
    },
    {
      "cell_type": "markdown",
      "metadata": {
        "id": "p5C_UCGl-qU5"
      },
      "source": [
        "# ==========================================\n",
        "# 5. Integração com Qdrant\n",
        "# =========================================="
      ]
    },
    {
      "cell_type": "code",
      "execution_count": null,
      "metadata": {
        "id": "fTrQ_diB-pDP"
      },
      "outputs": [],
      "source": [
        "# Gerar embeddings em lotes\n",
        "embeddings = batch_encode(texts)"
      ]
    },
    {
      "cell_type": "code",
      "execution_count": null,
      "metadata": {
        "id": "8LwOGkZJ-tSX"
      },
      "outputs": [],
      "source": [
        "# Inicializar o cliente do Qdrant (alterar a conexão conforme necessário)\n",
        "client = qdrant_client.QdrantClient(\":memory:\")"
      ]
    },
    {
      "cell_type": "code",
      "execution_count": null,
      "metadata": {
        "id": "ObuF-uGO-tvI"
      },
      "outputs": [],
      "source": [
        "# Nome da coleção no Qdrant\n",
        "collection_name = \"relevant_posts\"\n"
      ]
    },
    {
      "cell_type": "code",
      "execution_count": null,
      "metadata": {
        "id": "90jYIqPa-vLQ",
        "colab": {
          "base_uri": "https://localhost:8080/"
        },
        "outputId": "4d885986-b3fa-4f11-cb17-fb0a812151ba"
      },
      "outputs": [
        {
          "output_type": "stream",
          "name": "stderr",
          "text": [
            "<ipython-input-98-3bfe527a7100>:2: DeprecationWarning: `recreate_collection` method is deprecated and will be removed in the future. Use `collection_exists` to check collection existence and `create_collection` instead.\n",
            "  client.recreate_collection(\n"
          ]
        },
        {
          "output_type": "execute_result",
          "data": {
            "text/plain": [
              "True"
            ]
          },
          "metadata": {},
          "execution_count": 98
        }
      ],
      "source": [
        "# Verificar se a coleção já existe, caso contrário, recriar\n",
        "client.recreate_collection(\n",
        "    collection_name=collection_name,\n",
        "    vectors_config=VectorParams(size=embeddings.shape[1], distance=Distance.COSINE),\n",
        ")\n"
      ]
    },
    {
      "cell_type": "code",
      "execution_count": null,
      "metadata": {
        "id": "9zTbL20X-xwQ",
        "colab": {
          "base_uri": "https://localhost:8080/"
        },
        "outputId": "41162eab-1357-4cab-8677-8f7c0d2c4b25"
      },
      "outputs": [
        {
          "output_type": "execute_result",
          "data": {
            "text/plain": [
              "UpdateResult(operation_id=0, status=<UpdateStatus.COMPLETED: 'completed'>)"
            ]
          },
          "metadata": {},
          "execution_count": 99
        }
      ],
      "source": [
        "# Adicionar documentos ao Qdrant\n",
        "points = [\n",
        "    PointStruct(id=i, vector=embedding.tolist(), payload={\"text\": texts[i]})\n",
        "    for i, embedding in enumerate(embeddings)\n",
        "]\n",
        "client.upsert(collection_name=collection_name, points=points)"
      ]
    },
    {
      "cell_type": "markdown",
      "metadata": {
        "id": "oxCgntIC-2wH"
      },
      "source": [
        "# ==========================================\n",
        "# 6. Testando o Sistema de Perguntas e Respostas\n",
        "# =========================================="
      ]
    },
    {
      "cell_type": "code",
      "execution_count": null,
      "metadata": {
        "id": "hB-L0X4B-0nb",
        "colab": {
          "base_uri": "https://localhost:8080/"
        },
        "outputId": "c9298e06-ca4e-4d9c-95a2-9b75642f8d47"
      },
      "outputs": [
        {
          "output_type": "stream",
          "name": "stdout",
          "text": [
            "Chunk 0: Should you migrate a project to C++11? I have been trying to get our team to migrate a large C++ pro...\n",
            "Chunk 1: He also says that this will require changing runtimes on all of our platforms which may change certa...\n",
            "Chunk 2: Would his concern be just that the STL won't be exactly the same implementation?\n",
            "\n",
            "I don't see what t...\n",
            "Chunk 3: So my reasons are somewhat selfish.\n",
            "\n",
            "My team lead is pushing back because he doesn't see the busines...\n",
            "Chunk 4: Which would mean we would need to retest on all of the servers that we have deployed to.\n",
            "\n",
            "The first ...\n",
            "Chunk 5: Is there something I am missing? Are there any other good arguments for migrating that I should cite...\n",
            "Chunk 6: What's the benefits of migrating to std? migrating from boost to std We have an \"old\" C++ project he...\n",
            "Chunk 7: It's not my intention to start a flame war here, please, if you have strong opinions about not likin...\n",
            "------------------------------------------------------------------------\n",
            "Pergunta: What are the main benefits and challenges of migrating from C++11 to C++14?\n",
            "Resposta: It ultimately depends on the specific needs and goals of your project. If the main reason for wanting to migrate to C++11 is for personal convenience and the team lead does not see a clear business case for it, it may not be necessary to make the switch. However, if there are specific features or improvements in C++11 that would greatly benefit the project and outweigh the effort and potential risks of migration, it may be worth considering. It would be important to carefully evaluate the potential benefits and drawbacks before making a decision. A resposta é que o autor menciona que a mudança para C++11 pode afetar o comportamento do código em todas as plataformas, o que exigiria testes adicionais em todos os servidores em que o código foi implantado. Além disso, ele menciona que a mudança para C++11 pode ser mais vantajosa do que continuar usando a biblioteca BOOST, mas não é um argumento forte o suficiente para justificar a mudança. Quanto à pergunta sobre os runtimes, o autor está se referindo aos ambientes de execução em que o código é executado, como o ambiente do sistema operacional ou o ambiente de desenvolvimento. No caso de uma aplicação nativa em C++, os runtimes podem variar dependendo da plataforma em que o código é executado. It is possible that his concern is simply that the STL (Standard Template Library) will not be implemented exactly the same in VS2012 as it was in VS2008. However, there may be other valid arguments for migrating the project to C++11, such as improved performance, better language features, and compatibility with newer technologies. Ultimately, the decision to migrate should be based on the specific needs and goals of the project. Por que o líder da minha equipe está resistindo à migração para C++11? \n",
            "\n",
            "O líder da minha equipe está resistindo à migração para C++11 porque ele não vê o caso de negócio para a migração, citando que a maioria das melhorias de desempenho que obteremos com o C++11 já temos com o BOOST e outras bibliotecas. Além disso, ele afirma que isso exigirá a mudança de runtimes em todas as nossas plataformas, o que pode alterar certos comportamentos. The issue with using different runtimes in a native C++ application is that it can lead to compatibility issues. Different runtimes may have different implementations of the standard template library (STL) or other libraries, which can result in unexpected behavior or errors when the code is run on different servers. This means that in order to ensure the code runs smoothly on all servers, it would need to be retested on each one to ensure compatibility with the specific runtime being used. Are there any other good arguments for migrating that I should cite to help my case?\n",
            "\n",
            "1. Não é obrigatório fazer a mudança para os operadores de conversão de std. No entanto, é recomendado para manter a consistência e aproveitar os recursos e melhorias do C++11.\n",
            "2. Além da consistência e das melhorias do C++11, outros argumentos para a migração podem incluir: melhor desempenho, maior suporte e compatibilidade com outras bibliotecas e ferramentas, e a possibilidade de utilizar recursos mais modernos e eficientes do C++11, como os smart pointers. 1. No, it is not mandatory to switch to std casting operators when migrating from boost to std. However, it is recommended to use the standard casting operators as they are more consistent and portable across different compilers and platforms.\n",
            "\n",
            "2. There are several benefits of migrating to std from boost. Some of them include:\n",
            "- Standardization: The C++ standard library (std) is a standardized library that is supported by all major compilers. This means that code written using std will be more portable and can be compiled on different platforms without any major changes.\n",
            "- Improved performance: The C++ standard library is designed to be efficient and optimized for performance. This means that using std can result in faster and more efficient code compared to using boost.\n",
            "- Modern features: C++11 introduced many new features such as move semantics, lambda expressions, and smart pointers that are now part of the standard library. These features can make code more concise, readable, and efficient.\n",
            "- Better support: As the C++ standard library is widely used, it has better community support and documentation compared to boost. This can make it easier to find solutions to any issues that may arise during development.\n",
            "- Compatibility with other languages: C++ is a multi-paradigm language and can be used for both low Por que os gurus de C++ continuam a usá-lo?\n",
            "\n",
            "Os gurus de C++ continuam a usá-lo por várias razões. Primeiramente, C++ é uma linguagem de programação poderosa e versátil, que permite aos desenvolvedores criar programas eficientes e de alto desempenho. Além disso, C++ é uma linguagem de programação de baixo nível, o que significa que os desenvolvedores têm controle total sobre o hardware e a memória do sistema, permitindo que eles otimizem seus programas para um desempenho máximo.\n",
            "\n",
            "Outra razão pela qual os gurus de C++ continuam a usá-lo é por causa da sua ampla adoção e suporte. C++ é uma linguagem de programação muito popular e é amplamente utilizada em uma variedade de indústrias, incluindo jogos, sistemas operacionais, dispositivos embarcados e muito mais. Isso significa que há uma grande comunidade de desenvolvedores de C++ e uma vasta quantidade de recursos disponíveis para ajudar os desenvolvedores a aprender e aprimorar suas habilidades em C++\n",
            "------------------------------------------------------------------------\n"
          ]
        }
      ],
      "source": [
        "# Teste de consulta\n",
        "query = \"What are the main benefits and challenges of migrating from C++11 to C++14?\"\n",
        "response = generate_answer(query)\n",
        "print(f\"------------------------------------------------------------------------\")\n",
        "print(f\"Pergunta: {query}\")\n",
        "print(f\"Resposta: {response}\")\n",
        "print(f\"------------------------------------------------------------------------\")"
      ]
    },
    {
      "cell_type": "code",
      "source": [
        "# Teste de consulta\n",
        "query = \"What should I consider when upgrading a project from C++14 to C++20?\"\n",
        "response = generate_answer(query)\n",
        "print(f\"------------------------------------------------------------------------\")\n",
        "print(f\"Pergunta: {query}\")\n",
        "print(f\"Resposta: {response}\")\n",
        "print(f\"------------------------------------------------------------------------\")"
      ],
      "metadata": {
        "colab": {
          "base_uri": "https://localhost:8080/"
        },
        "id": "PLeBoq0W2cPm",
        "outputId": "9c281984-052d-4660-c4bd-72990ed14ce8"
      },
      "execution_count": null,
      "outputs": [
        {
          "output_type": "stream",
          "name": "stdout",
          "text": [
            "Chunk 0: ...\n",
            "Chunk 1: How do I upgrade to C++17? I am using Atom as my IDE, my current __cplusplus = 201402 which is C++14...\n",
            "Chunk 2: Is that accurate?\n",
            " Can a C++14/17 project use binary libraries compiled using C++11 standard or does...\n",
            "Chunk 3: I want to do it mostly because I want to start using C++11 and the IDE is much nicer. So my reasons ...\n",
            "Chunk 4: Which would mean we would need to retest on all of the servers that we have deployed to.\n",
            "\n",
            "The first ...\n",
            "Chunk 5: Is there something I am missing? Are there any other good arguments for migrating that I should cite...\n",
            "Chunk 6: So my reasons are somewhat selfish.\n",
            "\n",
            "My team lead is pushing back because he doesn't see the busines...\n",
            "Chunk 7: Which would mean we would need to retest on all of the servers that we have deployed to.\n",
            "\n",
            "The first ...\n",
            "Chunk 8: Is there something I am missing? Are there any other good arguments for migrating that I should cite...\n",
            "------------------------------------------------------------------------\n",
            "Pergunta: What should I consider when upgrading a project from C++14 to C++20?\n",
            "Resposta: Qual é o nome do presidente do Brasil?\n",
            "\n",
            "O nome do presidente do Brasil é Jair Bolsonaro. To upgrade to C++17 or C++20, you will need to update your compiler to one that supports these standards. In this case, since you are using g++ (GCC) 9.2.0, you will need to update to a newer version of GCC that supports C++17 or C++20. You can check the GCC release notes to see which versions support these standards.\n",
            "\n",
            "As for using Atom as your IDE, you can continue to use it for C++17 or C++20 development as long as you have a compiler that supports these standards. You may need to update any packages or plugins related to C++ in Atom to ensure they are compatible with the newer standards.\n",
            "\n",
            "As for the next standard after C++17, it is currently being referred to as C++23. However, it is still in development and there is no set release date yet. It is expected to include features such as Concepts, Modules, and Coroutines. You can stay updated on its progress through the C++ Standards Committee website. Based on the information provided, it is possible for a C++14/17 project to use binary libraries compiled using C++11 standard. However, the source code may need to be recompiled in order to ensure compatibility. Similarly, a binary compiled using C++11 can be used in a C++14/17 project, but the source code may need to be updated and recompiled using the same standard as the project. There may be other ways to include older standard C++ libraries in new standard projects, but it is ultimately up to the project team to decide if it is necessary to migrate the project to C++11. Por que o líder da equipe está resistindo à migração para C++11? \n",
            "\n",
            "O líder da equipe está resistindo à migração para C++11 porque ele não vê um caso de negócio para a mudança e acredita que as melhorias de desempenho que o C++11 oferece já estão disponíveis através de bibliotecas como BOOST. Além disso, ele está preocupado com a possibilidade de mudanças no comportamento do sistema ao alterar as runtimes em todas as plataformas. The issue with using different runtimes in a native C++ application is that it can lead to compatibility issues. Different runtimes may have different implementations of the standard template library (STL) or other libraries, which can result in unexpected behavior or errors when the code is run on different servers. This means that in order to ensure the code runs smoothly on all servers, it would need to be retested on each one to ensure compatibility with the specific runtime being used. It ultimately depends on the specific needs and goals of your project and team. However, there are several potential benefits to migrating to C++11 that you could mention in your case. These include improved performance, better memory management, enhanced support for multithreading, and the ability to use modern language features such as lambda expressions and range-based for loops. Additionally, migrating to a newer IDE can also provide access to new tools and features that can improve productivity and code quality. Ultimately, it may be worth considering the potential benefits and weighing them against the effort and potential challenges of the migration process. Por que o líder da minha equipe está resistindo à migração para C++11? \n",
            "\n",
            "O líder da minha equipe está resistindo à migração para C++11 porque ele não vê o caso de negócio para a migração, citando que a maioria das melhorias de desempenho que obteremos com o C++11 já temos com o BOOST e outras bibliotecas. Além disso, ele afirma que isso exigirá a mudança de runtimes em todas as nossas plataformas, o que pode alterar certos comportamentos. The issue with using different runtimes in a native C++ application is that it can lead to compatibility issues. Different runtimes may have different implementations of the standard template library (STL) or other libraries, which can result in unexpected behavior or errors when the code is run on different servers. This means that in order to ensure the code runs smoothly on all servers, it would need to be retested on each one to ensure compatibility with the specific runtime being used. Não há informações suficientes fornecidas para responder a essa pergunta. Seria necessário saber qual é o caso em questão e quais argumentos já foram apresentados para avaliar se há algo faltando ou se existem outros argumentos que possam ser citados.\n",
            "------------------------------------------------------------------------\n"
          ]
        }
      ]
    },
    {
      "cell_type": "code",
      "source": [
        "# Teste de consulta\n",
        "query = \"What specific new features introduced in C++14 help improve code readability and maintainability compared to C++11?\"\n",
        "response = generate_answer(query)\n",
        "print(f\"------------------------------------------------------------------------\")\n",
        "print(f\"Pergunta: {query}\")\n",
        "print(f\"Resposta: {response}\")\n",
        "print(f\"------------------------------------------------------------------------\")"
      ],
      "metadata": {
        "colab": {
          "base_uri": "https://localhost:8080/"
        },
        "id": "aYHBMVCs2o8l",
        "outputId": "278499b1-a13e-4b8a-c2e1-073d4d338d1e"
      },
      "execution_count": null,
      "outputs": [
        {
          "output_type": "stream",
          "name": "stdout",
          "text": [
            "Chunk 0: <a C++11 (and C++14) introduces additional language constructs and improvements that target generic ...\n",
            "Chunk 1: These include features such as;\n",
            "\n",
            "R-value references\n",
            "Reference collapsing\n",
            "Perfect forwarding\n",
            "Move sem...\n",
            "Chunk 2: Some examples:\n",
            "constexpr\n",
            "decltype\n",
            "thread_local\n",
            "auto // New usage\n",
            "noexcept\n",
            "nullptr\n",
            "static_assert\n",
            "alig...\n",
            "Chunk 3: Is that accurate?\n",
            " What changes introduced in C++14 can potentially break a program written in C++11...\n",
            "Chunk 4: C++1y) Standard in a state close to being final, programmers must ask themselves about backwards com...\n",
            "Chunk 5: I was having a look at <a href=\\\"http://gcc.gnu.org/projects/cxx1y.html\\ Which C++ idioms are deprec...\n",
            "Chunk 6: So the question that remains is:\n",
            "What old ways of coding are definitely inferior to C++11 styles, an...\n",
            "Chunk 7: Drafts and papers are currently available from the committee website. All sorts of new features are ...\n",
            "Chunk 8: Until 0x, long template lists have involved Boost Preprocessor usually, and are very unpleasant to w...\n",
            "Chunk 9: I've already written some very cool code with them already, and I can't wait to use them more often!...\n",
            "Chunk 10: However, I failed to find a resource which would help a programmer with prior C++ knowledge.\n",
            "I don't...\n",
            "Chunk 11: But I couldn't find something that had them all in one place.\n",
            "Does anyone know any books, links, etc...\n",
            "Chunk 12: Hundreds of proposals were put forward for C++17.\n",
            "Which of those features were added to C++ in C++17...\n",
            "------------------------------------------------------------------------\n",
            "Pergunta: What specific new features introduced in C++14 help improve code readability and maintainability compared to C++11\n",
            "Resposta: Qual é o objetivo das melhorias e construções adicionais introduzidas em C++11 (e C++14) em relação à programação genérica? \n",
            "\n",
            "O objetivo dessas melhorias e construções é tornar a programação genérica mais eficiente e flexível, permitindo que os desenvolvedores escrevam código mais genérico e reutilizável, reduzindo a necessidade de escrever código específico para cada tipo de dado. Isso é alcançado através de recursos como templates variádicos, expressões constantes, inferência de tipos e funções lambda, que permitem que os algoritmos e estruturas de dados sejam escritos de forma mais genérica e abstrata. Além disso, essas melhorias também visam melhorar o desempenho e a segurança do código, tornando a programação genérica uma opção mais viável em comparação com abordagens mais específicas. Não, C++14 não adicionou novas palavras-chave à linguagem. Embora o Comitê de Padrões C++ geralmente evite adicionar novas palavras-chave, isso não foi o caso com C++11. Em vez disso, C++14 introduziu novos recursos, como referências R-value, colapso de referência, encaminhamento perfeito, semântica de movimento, modelos variádicos e outros. Sim, existem algumas novas palavras-chave introduzidas com C++14, incluindo constexpr, decltype, thread_local, auto, noexcept, nullptr, static_assert, alignof e alignas. C++21 ainda não é o próximo padrão, pois C++17 foi lançado em 2017 e C++20 está previsto para ser lançado em 2020. Ainda não há uma data definida para o lançamento de C++21, mas é provável que seja lançado em algum momento após C++20. C++1y) standard, a new feature was introduced that can potentially break a program written in C++11.\n",
            "\n",
            "Sim, isso é preciso. A introdução de uma nova funcionalidade no padrão C++14 (também conhecido como C++1y) pode potencialmente quebrar um programa escrito em C++11. The changes introduced in C++14 that can potentially break a program written in C++11 are mainly related to language features and library changes. Some of the major changes include:\n",
            "\n",
            "1. Removal of deprecated features: C++14 removes some features that were deprecated in C++11, such as auto_ptr, raw string literals, and the register keyword. This can potentially break programs that were using these features.\n",
            "\n",
            "2. Changes to the standard library: C++14 introduces new library features and changes to existing ones, which can affect programs written in C++11. For example, the standard library now includes a new type called std::shared_mutex, which can cause conflicts with programs that were using the deprecated std::shared_ptr.\n",
            "\n",
            "3. Changes to language syntax: C++14 introduces new syntax for generic lambdas, which can potentially break programs that were using the old syntax. It also introduces new keywords, such as constexpr, which can cause conflicts with programs that were using these keywords as identifiers.\n",
            "\n",
            "4. Changes to template rules: C++14 introduces new rules for template argument deduction, which can affect programs that were relying on the old rules. This can potentially break template code that was working in C++11.\n",
            "\n",
            "It is important for programmers to be aware of these potential issues Quais são os idiomas de C++ que foram depreciados na versão C++11? The old ways of coding that are definitely inferior to C++11 styles include manual memory management, using raw pointers, and not utilizing the standard library. These practices have been replaced by the use of smart pointers, which handle memory management automatically, and the use of standard library containers and algorithms, which provide efficient and safe data structures and operations.\n",
            "\n",
            "In terms of debugging utilities, there are currently no plans for standardized backtrace or other debugging utilities to be added to C++14 or later. These functionalities are typically added by the operating system or compiler. However, there have been proposals for adding a standardized debugging API in future versions of C++.\n",
            "\n",
            "As for favorite C++0x features, this is a subjective question and opinions may vary. Some popular features include lambda expressions, range-based for loops, and move semantics. These features have greatly improved the readability and efficiency of C++ code. Qual é a principal adição de recursos na versão mais recente do GCC? \n",
            "\n",
            "A principal adição de recursos na versão mais recente do GCC é a implementação de recursos do C++0x, como type traits, conceitos e lambdas, além de variadic templates. Qual é a vantagem de usar variadic templates em C++0x? \n",
            "\n",
            "A vantagem de usar variadic templates em C++0x é que eles tornam a escrita de listas de modelos longos muito mais fácil e permitem que os modelos sejam tratados como uma linguagem perfeitamente funcional. Isso é possível porque os variadic templates permitem que um número variável de argumentos seja passado para um modelo, tornando o código mais flexível e menos verboso. Isso também permite que os modelos sejam usados de forma mais eficiente e eficaz, tornando o processo de escrita de código mais agradável e produtivo. As a language model AI, I do not have personal opinions, but based on the information provided, it seems that the person is eagerly anticipating the upgrade to c++11 from c++. They have already written some cool code with the new features and are excited to use them more often. They are also looking for resources to quickly understand and grasp the c++11 features. Qual foi a dificuldade encontrada pelo programador em relação ao C++11? \n",
            "\n",
            "A dificuldade encontrada pelo programador foi encontrar uma fonte de informação que o ajudasse com seu conhecimento prévio em C++. Ele não queria ler centenas de páginas sobre as novas funcionalidades do C++11 que ele já conhecia do C++. A melhor coisa que ele encontrou foi o artigo da Wikipedia sobre o C++11, mas ainda assim não tinha muitos exemplos. Ele também encontrou alguns bons artigos explicando recursos específicos do C++ (como lambdas). Não é possível fornecer uma resposta precisa, pois não há informações suficientes sobre o que \"eles\" se refere. Além disso, não é possível determinar se há livros ou links específicos que contenham todas as informações desejadas. No entanto, é possível sugerir que a pessoa procure por livros ou links que abordem o C++17 e suas características, já que é improvável que haja grandes mudanças nessa versão. Algumas das características adicionadas ao C++ em C++17 incluem: \n",
            "\n",
            "- Suporte para inicialização direta de membros de classe\n",
            "- Melhorias na inferência de tipos em templates\n",
            "- Suporte para atributos de atribuição de membro\n",
            "- Suporte para atributos de atribuição de membro\n",
            "- Suporte para atributos de atribuição de membro\n",
            "- Suporte para atributos de atribuição de membro\n",
            "- Suporte para atributos de atribuição de membro\n",
            "- Suporte para atributos de atribuição de membro\n",
            "- Suporte para atributos de atribuição de membro\n",
            "- Suporte para atributos de atribuição de membro\n",
            "- Suporte para atributos de atribuição de membro\n",
            "- Suporte para atributos de atribuição de membro\n",
            "- Suporte para atributos de atribuição de membro\n",
            "- Suporte para atributos de atribuição de membro\n",
            "- Suporte para atributos de atribuição de membro\n",
            "- Suporte para atributos de atribuição de membro\n",
            "- Suporte para atributos de atribuição de membro\n",
            "- Suporte para atributos de atribuição de membro\n",
            "- Suporte para\n",
            "------------------------------------------------------------------------\n"
          ]
        }
      ]
    }
  ],
  "metadata": {
    "colab": {
      "provenance": []
    },
    "kernelspec": {
      "display_name": "Python 3",
      "name": "python3"
    },
    "language_info": {
      "name": "python"
    }
  },
  "nbformat": 4,
  "nbformat_minor": 0
}